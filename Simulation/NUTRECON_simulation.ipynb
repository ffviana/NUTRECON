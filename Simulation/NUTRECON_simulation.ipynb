{
  "nbformat": 4,
  "nbformat_minor": 0,
  "metadata": {
    "colab": {
      "name": "NUTRECON_simulation.ipynb",
      "provenance": [],
      "collapsed_sections": [],
      "toc_visible": true,
      "include_colab_link": true
    },
    "kernelspec": {
      "name": "python3",
      "display_name": "Python 3"
    },
    "language_info": {
      "name": "python"
    }
  },
  "cells": [
    {
      "cell_type": "markdown",
      "metadata": {
        "id": "view-in-github",
        "colab_type": "text"
      },
      "source": [
        "<a href=\"https://colab.research.google.com/github/ffviana/NUTRECON/blob/main/Simulation/NUTRECON_simulation.ipynb\" target=\"_parent\"><img src=\"https://colab.research.google.com/assets/colab-badge.svg\" alt=\"Open In Colab\"/></a>"
      ]
    },
    {
      "cell_type": "markdown",
      "source": [
        "# NUTRECON General Task Description\n",
        "## Same-type trials\n",
        "In same-type trials, subjects must choose between a small but guaranteed quantity of a reward (Reference option) vs a probability (13, 22, 38, 50 or 75%) of winning a fixed amount of the same reward or getting nothing (Lottery Option).\n",
        "\n",
        "* Lottery probabilities: 13, 22, 38, 50 or 75%\n",
        "* Quantities:\n",
        "  * Money:\n",
        "    * Reference option: 2 €\n",
        "    * Lottery option: 2, 4.5, 10, 22.5 or 50 €\n",
        "\n",
        "  * Yogurts A and B\t\n",
        "    * Reference option: 1\n",
        "    * Lottery option: 1, 2, 5, 11 or 25 cups (containers?)\n",
        "\n",
        "There are (nº of lottery probs * nº of lottery quantities) unique lottery (UL) options in per reward type. \n",
        "\n",
        "We can play around with the number of UL option repetitions. (6 in the paper)\n",
        "\n",
        "_______\n",
        "## Mixed-type trials:\n",
        "In mixed-type trials, subjects must choose between a small but guaranteed amount of Money (Reference option) vs a probability (13, 22, 38, 50 or 75%) of winning a fixed amount of Yogurt A, Yogurt B, Water or getting nothing (Lottery Option).\n",
        "Quantities:\n",
        "Money\n",
        "Reference: 0.20€\n",
        "\n",
        "* Lottery probabilities: 13, 22, 38, 50 or 75%\n",
        "* Quantities:\n",
        "  * Reference option: 0.20 €\n",
        "  * Lottery option: 1, 2, 3, 4 or 6 cups (of yogurt A or yoburt B)\n",
        "\n",
        "  * Yogurts A and B\t\n",
        "    * Reference option: 1\n",
        "    * Lottery option: 1, 2, 5, 11 or 25 cups (containers?)\n"
      ],
      "metadata": {
        "id": "D2XBmUC91DTD"
      }
    },
    {
      "cell_type": "markdown",
      "source": [
        "## Framework"
      ],
      "metadata": {
        "id": "4MaMnVE50O2t"
      }
    },
    {
      "cell_type": "markdown",
      "source": [
        "From Levy and Glimcher 2011, the estimated utility (EU) is given by:\n",
        "\n",
        "\\begin{align}\n",
        "        EU(p_{i},X_{i},α_{i}) = p_{i} × X_{i}^{α_{i}}\n",
        "\\end{align}\n",
        "\n",
        "where $p_{i}$ is the probability of recieving a quantity $X_{i}$ of reward $i$.  \n",
        "<br>\n",
        "From Levy and Glimcher 2011, with $EU_{L}$ and $EU_{R}$ as the EU for lottery and reference options, respcetively, the probability $P_{L}$ of choosing the lottery option is given by:\n",
        "\n",
        "\\begin{align}\n",
        "        P_{L}(β_{i}) = \\frac{1}{1 + e^{β_{i} * (EU_{L} - EU_{R})}}\n",
        "\\end{align}\n",
        "\n",
        "however, if $EU_{L} > EU_{R} \\rightarrow P_{L} < 0.5$. Thus, the correct equation is:\n",
        "\\begin{align}\n",
        "        P_{L}(β_{i}) = 1 - \\frac{1}{1 + e^{β_{i} * (EU_{L} - EU_{R})}}\n",
        "\\end{align}\n"
      ],
      "metadata": {
        "id": "oR11x1Z8STXE"
      }
    },
    {
      "cell_type": "code",
      "source": [
        "# Import Packages\n",
        "import numpy as np\n",
        "import pandas as pd\n",
        "from random import randint\n",
        "from scipy.optimize import minimize\n",
        "from sklearn.linear_model import LogisticRegression"
      ],
      "metadata": {
        "id": "c7Qxub_64gTX"
      },
      "execution_count": null,
      "outputs": []
    },
    {
      "cell_type": "markdown",
      "source": [
        "## Same-type trials"
      ],
      "metadata": {
        "id": "6XXnf5IRfUUl"
      }
    },
    {
      "cell_type": "markdown",
      "source": [
        "#### Define Task parameters"
      ],
      "metadata": {
        "id": "i6xj8iRBuNUC"
      }
    },
    {
      "cell_type": "code",
      "execution_count": null,
      "metadata": {
        "id": "xt5BhwnPtebz"
      },
      "outputs": [],
      "source": [
        "# Same-type task variables\n",
        "\n",
        "uniqueLott_Nreps= 6                                 # Unique Lottery Repititions  \n",
        "st_refPs = [1]\n",
        "st_lottPs = [0.13, 0.22, 0.38, .50, .75]            # Same-type Trials Lottery probabilities\n",
        "\n",
        "money_id = 'Money'\n",
        "money_refQs = [2]                                   # Euros\n",
        "money_lottQs = [2, 4.5, 10, 22.5, 50]               # Euros\n",
        "money_refPars = [money_id, money_refQs, st_refPs]\n",
        "money_lottPars = [money_id, money_lottQs, st_lottPs]\n",
        "\n",
        "yogiCplus_id = 'C+'\n",
        "yogiCplus_refQs = [1]                               # Cups of C+ yogurt \n",
        "yogiCplus_lottQs = [1, 2, 5, 11, 25]                # Cups of C+ yogurt\n",
        "yogiCplus_refPars = [yogiCplus_id, yogiCplus_refQs, st_refPs]\n",
        "yogiCplus_lottPars = [yogiCplus_id, yogiCplus_lottQs, st_lottPs]\n",
        "\n",
        "yogiCminus_id = 'C-'\n",
        "yogiCminus_refQs = yogiCplus_refQs                  # Cups of C- yogurt \n",
        "yogiCminus_lottQs = yogiCplus_lottQs                # Cups of C- yogurt \n",
        "yogiCminus_refPars = [yogiCminus_id, yogiCminus_refQs, st_refPs]\n",
        "yogiCminus_lottPars = [yogiCminus_id, yogiCminus_lottQs, st_lottPs]\n"
      ]
    },
    {
      "cell_type": "markdown",
      "source": [
        "### Simulate Data"
      ],
      "metadata": {
        "id": "SKMME9Mmf8AJ"
      }
    },
    {
      "cell_type": "markdown",
      "source": [
        "#### One Subject"
      ],
      "metadata": {
        "id": "SNPIzY441sw8"
      }
    },
    {
      "cell_type": "markdown",
      "source": [
        "##### Initialization parameters"
      ],
      "metadata": {
        "id": "hhRdWVVA1eh-"
      }
    },
    {
      "cell_type": "code",
      "source": [
        "# %% Subject specific parameters\n",
        "money_alpha = 0.7\n",
        "yogiCplus_alpha = 0.8\n",
        "yogiCminus_alpha = 0.8\n",
        "\n",
        "money_beta = 1.8\n",
        "yogiCplus_beta = money_Beta\n",
        "yogiCminus_beta = money_Beta\n",
        "\n",
        "alphas = {'Money' : money_alpha,\n",
        "             'C+' : yogiCplus_alpha,\n",
        "             'C-' : yogiCminus_alpha}\n",
        "betas = {'Money' : money_beta,\n",
        "             'C+' : yogiCplus_beta,\n",
        "             'C-' : yogiCminus_beta}"
      ],
      "metadata": {
        "id": "bpzOkXvgb6p3"
      },
      "execution_count": null,
      "outputs": []
    },
    {
      "cell_type": "markdown",
      "source": [
        "##### Simulate Choice Data"
      ],
      "metadata": {
        "id": "g6pqdklp77fa"
      }
    },
    {
      "cell_type": "markdown",
      "source": [
        "###### Get Trial Combinations + alphas and betas"
      ],
      "metadata": {
        "id": "loK0dLOrih5i"
      }
    },
    {
      "cell_type": "code",
      "source": [
        "column_names = ['ref_type', 'ref_qt', 'ref_prob' ,\n",
        "                'lott_type', 'lottery_qt', 'lottery_prob',\n",
        "                'ref_alpha', 'lott_alpha', 'beta',\n",
        "                'ref_EU', 'lott_EU', 'pL', 'choice']\n",
        "\n",
        "def get_uniqueCombinations(ref_pars, lott_pars):\n",
        "  ref_uniqueCombs = [ [ref_pars[0],qt,prob] for qt in ref_pars[1] for prob in ref_pars[2] ]\n",
        "  lott_uniqueCombs = [ [lott_pars[0],qt,prob] for qt in lott_pars[1] for prob in lott_pars[2] ]\n",
        "\n",
        "  uniqueCombs = [ref + lott for ref in ref_uniqueCombs for lott in lott_uniqueCombs]\n",
        "  return uniqueCombs\n",
        "\n",
        "# Generate Unique Lotteries  \n",
        "money_uniqueLottCombs = get_uniqueCombinations(money_refPars, money_lottPars)\n",
        "yogiCplus_uniqueLottCombs = get_uniqueCombinations(yogiCplus_refPars, yogiCplus_lottPars)\n",
        "yogiCminus_uniqueLottCombs = get_uniqueCombinations(yogiCminus_refPars, yogiCminus_lottPars)\n",
        "\n",
        "allUniqueLotteryCombinations = money_uniqueLottCombs + yogiCplus_uniqueLottCombs + yogiCminus_uniqueLottCombs\n",
        "\n",
        "LotteryCombinations = allUniqueLotteryCombinations * uniqueLott_Nreps         # Lottery combinations for all reward types\n",
        "\n",
        "N_trials = len(LotteryCombinations)                 # Total number of Same-type trials\n",
        "\n",
        "print('Total number of Same-type trials = {}'.format(N_trials))\n",
        "\n",
        "sameType_sim_df = pd.DataFrame(LotteryCombinations, columns = column_names[:6])\n",
        "\n",
        "# Get alpha and beta values\n",
        "sameType_sim_df[column_names[6]] = sameType_sim_df[column_names[0]].replace(alphas)\n",
        "sameType_sim_df[column_names[7]] = sameType_sim_df[column_names[3]].replace(alphas)\n",
        "sameType_sim_df[column_names[8]] = sameType_sim_df[column_names[3]].replace(betas)\n",
        "sameType_sim_df.sample(5)"
      ],
      "metadata": {
        "colab": {
          "base_uri": "https://localhost:8080/",
          "height": 223
        },
        "id": "Usj7Er41N-Sb",
        "outputId": "10e1bb80-6f3f-4a6f-b2ac-80c536ba1b1f"
      },
      "execution_count": null,
      "outputs": [
        {
          "output_type": "stream",
          "name": "stdout",
          "text": [
            "Total number of Same-type trials = 450\n"
          ]
        },
        {
          "output_type": "execute_result",
          "data": {
            "text/plain": [
              "    ref_type  ref_qt  ref_prob lott_type  lottery_qt  lottery_prob  ref_alpha  \\\n",
              "375    Money       2         1     Money         2.0          0.13        0.7   \n",
              "442       C-       1         1        C-        11.0          0.38        0.8   \n",
              "235    Money       2         1     Money        10.0          0.13        0.7   \n",
              "238    Money       2         1     Money        10.0          0.50        0.7   \n",
              "285       C-       1         1        C-         5.0          0.13        0.8   \n",
              "\n",
              "     lott_alpha  beta  \n",
              "375         0.7   1.8  \n",
              "442         0.8   1.8  \n",
              "235         0.7   1.8  \n",
              "238         0.7   1.8  \n",
              "285         0.8   1.8  "
            ],
            "text/html": [
              "\n",
              "  <div id=\"df-a1c1714a-5b3d-4ef4-afe5-b845d42172a1\">\n",
              "    <div class=\"colab-df-container\">\n",
              "      <div>\n",
              "<style scoped>\n",
              "    .dataframe tbody tr th:only-of-type {\n",
              "        vertical-align: middle;\n",
              "    }\n",
              "\n",
              "    .dataframe tbody tr th {\n",
              "        vertical-align: top;\n",
              "    }\n",
              "\n",
              "    .dataframe thead th {\n",
              "        text-align: right;\n",
              "    }\n",
              "</style>\n",
              "<table border=\"1\" class=\"dataframe\">\n",
              "  <thead>\n",
              "    <tr style=\"text-align: right;\">\n",
              "      <th></th>\n",
              "      <th>ref_type</th>\n",
              "      <th>ref_qt</th>\n",
              "      <th>ref_prob</th>\n",
              "      <th>lott_type</th>\n",
              "      <th>lottery_qt</th>\n",
              "      <th>lottery_prob</th>\n",
              "      <th>ref_alpha</th>\n",
              "      <th>lott_alpha</th>\n",
              "      <th>beta</th>\n",
              "    </tr>\n",
              "  </thead>\n",
              "  <tbody>\n",
              "    <tr>\n",
              "      <th>375</th>\n",
              "      <td>Money</td>\n",
              "      <td>2</td>\n",
              "      <td>1</td>\n",
              "      <td>Money</td>\n",
              "      <td>2.0</td>\n",
              "      <td>0.13</td>\n",
              "      <td>0.7</td>\n",
              "      <td>0.7</td>\n",
              "      <td>1.8</td>\n",
              "    </tr>\n",
              "    <tr>\n",
              "      <th>442</th>\n",
              "      <td>C-</td>\n",
              "      <td>1</td>\n",
              "      <td>1</td>\n",
              "      <td>C-</td>\n",
              "      <td>11.0</td>\n",
              "      <td>0.38</td>\n",
              "      <td>0.8</td>\n",
              "      <td>0.8</td>\n",
              "      <td>1.8</td>\n",
              "    </tr>\n",
              "    <tr>\n",
              "      <th>235</th>\n",
              "      <td>Money</td>\n",
              "      <td>2</td>\n",
              "      <td>1</td>\n",
              "      <td>Money</td>\n",
              "      <td>10.0</td>\n",
              "      <td>0.13</td>\n",
              "      <td>0.7</td>\n",
              "      <td>0.7</td>\n",
              "      <td>1.8</td>\n",
              "    </tr>\n",
              "    <tr>\n",
              "      <th>238</th>\n",
              "      <td>Money</td>\n",
              "      <td>2</td>\n",
              "      <td>1</td>\n",
              "      <td>Money</td>\n",
              "      <td>10.0</td>\n",
              "      <td>0.50</td>\n",
              "      <td>0.7</td>\n",
              "      <td>0.7</td>\n",
              "      <td>1.8</td>\n",
              "    </tr>\n",
              "    <tr>\n",
              "      <th>285</th>\n",
              "      <td>C-</td>\n",
              "      <td>1</td>\n",
              "      <td>1</td>\n",
              "      <td>C-</td>\n",
              "      <td>5.0</td>\n",
              "      <td>0.13</td>\n",
              "      <td>0.8</td>\n",
              "      <td>0.8</td>\n",
              "      <td>1.8</td>\n",
              "    </tr>\n",
              "  </tbody>\n",
              "</table>\n",
              "</div>\n",
              "      <button class=\"colab-df-convert\" onclick=\"convertToInteractive('df-a1c1714a-5b3d-4ef4-afe5-b845d42172a1')\"\n",
              "              title=\"Convert this dataframe to an interactive table.\"\n",
              "              style=\"display:none;\">\n",
              "        \n",
              "  <svg xmlns=\"http://www.w3.org/2000/svg\" height=\"24px\"viewBox=\"0 0 24 24\"\n",
              "       width=\"24px\">\n",
              "    <path d=\"M0 0h24v24H0V0z\" fill=\"none\"/>\n",
              "    <path d=\"M18.56 5.44l.94 2.06.94-2.06 2.06-.94-2.06-.94-.94-2.06-.94 2.06-2.06.94zm-11 1L8.5 8.5l.94-2.06 2.06-.94-2.06-.94L8.5 2.5l-.94 2.06-2.06.94zm10 10l.94 2.06.94-2.06 2.06-.94-2.06-.94-.94-2.06-.94 2.06-2.06.94z\"/><path d=\"M17.41 7.96l-1.37-1.37c-.4-.4-.92-.59-1.43-.59-.52 0-1.04.2-1.43.59L10.3 9.45l-7.72 7.72c-.78.78-.78 2.05 0 2.83L4 21.41c.39.39.9.59 1.41.59.51 0 1.02-.2 1.41-.59l7.78-7.78 2.81-2.81c.8-.78.8-2.07 0-2.86zM5.41 20L4 18.59l7.72-7.72 1.47 1.35L5.41 20z\"/>\n",
              "  </svg>\n",
              "      </button>\n",
              "      \n",
              "  <style>\n",
              "    .colab-df-container {\n",
              "      display:flex;\n",
              "      flex-wrap:wrap;\n",
              "      gap: 12px;\n",
              "    }\n",
              "\n",
              "    .colab-df-convert {\n",
              "      background-color: #E8F0FE;\n",
              "      border: none;\n",
              "      border-radius: 50%;\n",
              "      cursor: pointer;\n",
              "      display: none;\n",
              "      fill: #1967D2;\n",
              "      height: 32px;\n",
              "      padding: 0 0 0 0;\n",
              "      width: 32px;\n",
              "    }\n",
              "\n",
              "    .colab-df-convert:hover {\n",
              "      background-color: #E2EBFA;\n",
              "      box-shadow: 0px 1px 2px rgba(60, 64, 67, 0.3), 0px 1px 3px 1px rgba(60, 64, 67, 0.15);\n",
              "      fill: #174EA6;\n",
              "    }\n",
              "\n",
              "    [theme=dark] .colab-df-convert {\n",
              "      background-color: #3B4455;\n",
              "      fill: #D2E3FC;\n",
              "    }\n",
              "\n",
              "    [theme=dark] .colab-df-convert:hover {\n",
              "      background-color: #434B5C;\n",
              "      box-shadow: 0px 1px 3px 1px rgba(0, 0, 0, 0.15);\n",
              "      filter: drop-shadow(0px 1px 2px rgba(0, 0, 0, 0.3));\n",
              "      fill: #FFFFFF;\n",
              "    }\n",
              "  </style>\n",
              "\n",
              "      <script>\n",
              "        const buttonEl =\n",
              "          document.querySelector('#df-a1c1714a-5b3d-4ef4-afe5-b845d42172a1 button.colab-df-convert');\n",
              "        buttonEl.style.display =\n",
              "          google.colab.kernel.accessAllowed ? 'block' : 'none';\n",
              "\n",
              "        async function convertToInteractive(key) {\n",
              "          const element = document.querySelector('#df-a1c1714a-5b3d-4ef4-afe5-b845d42172a1');\n",
              "          const dataTable =\n",
              "            await google.colab.kernel.invokeFunction('convertToInteractive',\n",
              "                                                     [key], {});\n",
              "          if (!dataTable) return;\n",
              "\n",
              "          const docLinkHtml = 'Like what you see? Visit the ' +\n",
              "            '<a target=\"_blank\" href=https://colab.research.google.com/notebooks/data_table.ipynb>data table notebook</a>'\n",
              "            + ' to learn more about interactive tables.';\n",
              "          element.innerHTML = '';\n",
              "          dataTable['output_type'] = 'display_data';\n",
              "          await google.colab.output.renderOutput(dataTable, element);\n",
              "          const docLink = document.createElement('div');\n",
              "          docLink.innerHTML = docLinkHtml;\n",
              "          element.appendChild(docLink);\n",
              "        }\n",
              "      </script>\n",
              "    </div>\n",
              "  </div>\n",
              "  "
            ]
          },
          "metadata": {},
          "execution_count": 96
        }
      ]
    },
    {
      "cell_type": "markdown",
      "source": [
        "###### Compute reference and Lottery EUs and calculate pL"
      ],
      "metadata": {
        "id": "ZKPw3jpRio2G"
      }
    },
    {
      "cell_type": "code",
      "source": [
        "def get_EU_(p,X, alpha):\n",
        "  return p * X**alpha\n",
        "\n",
        "def get_EU(row, cols):\n",
        "  p = row[cols[1]]\n",
        "  X = row[cols[0]]\n",
        "  alpha = row[cols[2]]\n",
        "  EU = get_EU_(p,X, alpha)\n",
        "  return EU\n",
        "\n",
        "def get_pL_(euL, euR, beta):\n",
        "  return 1 - 1/(1 + np.exp(beta * (euL - euR)))\n",
        "\n",
        "def get_pL(row, cols = column_names[8:11]):\n",
        "  euL = row[cols[2]]\n",
        "  euR = row[cols[1]]\n",
        "  beta = row[cols[0]]\n",
        "  pL = get_pL_(euL, euR, beta)\n",
        "  return pL\n",
        "\n",
        "ref_cols = column_names[1:3] + [column_names[6]]\n",
        "lott_cols = column_names[4:6] + [column_names[7]]\n",
        "\n",
        "sameType_sim_df[column_names[9]] = sameType_sim_df.apply(lambda row: get_EU(row, ref_cols), axis=1)\n",
        "sameType_sim_df[column_names[10]] = sameType_sim_df.apply(lambda row: get_EU(row, lott_cols), axis=1)\n",
        "sameType_sim_df[column_names[11]] = sameType_sim_df.apply(lambda row: get_pL(row), axis=1)\n",
        "sameType_sim_df.sample(5)"
      ],
      "metadata": {
        "colab": {
          "base_uri": "https://localhost:8080/",
          "height": 206
        },
        "id": "iCHd2QSHgekb",
        "outputId": "ee60966a-d0c2-46a6-c2ce-7dd370ad6667"
      },
      "execution_count": null,
      "outputs": [
        {
          "output_type": "execute_result",
          "data": {
            "text/plain": [
              "    ref_type  ref_qt  ref_prob lott_type  lottery_qt  lottery_prob  ref_alpha  \\\n",
              "260       C+       1         1        C+         5.0          0.13        0.8   \n",
              "394    Money       2         1     Money        22.5          0.75        0.7   \n",
              "314    Money       2         1     Money        10.0          0.75        0.7   \n",
              "49        C+       1         1        C+        25.0          0.75        0.8   \n",
              "76     Money       2         1     Money         2.0          0.22        0.7   \n",
              "\n",
              "     lott_alpha  beta    ref_EU   lott_EU  \n",
              "260         0.8   1.8  1.000000  0.471107  \n",
              "394         0.7   1.8  1.624505  6.631153  \n",
              "314         0.7   1.8  1.624505  3.758904  \n",
              "49          0.8   1.8  1.000000  9.849479  \n",
              "76          0.7   1.8  1.624505  0.357391  "
            ],
            "text/html": [
              "\n",
              "  <div id=\"df-dc0aeeee-4fbf-4cd7-bfd9-9c3fd4b01334\">\n",
              "    <div class=\"colab-df-container\">\n",
              "      <div>\n",
              "<style scoped>\n",
              "    .dataframe tbody tr th:only-of-type {\n",
              "        vertical-align: middle;\n",
              "    }\n",
              "\n",
              "    .dataframe tbody tr th {\n",
              "        vertical-align: top;\n",
              "    }\n",
              "\n",
              "    .dataframe thead th {\n",
              "        text-align: right;\n",
              "    }\n",
              "</style>\n",
              "<table border=\"1\" class=\"dataframe\">\n",
              "  <thead>\n",
              "    <tr style=\"text-align: right;\">\n",
              "      <th></th>\n",
              "      <th>ref_type</th>\n",
              "      <th>ref_qt</th>\n",
              "      <th>ref_prob</th>\n",
              "      <th>lott_type</th>\n",
              "      <th>lottery_qt</th>\n",
              "      <th>lottery_prob</th>\n",
              "      <th>ref_alpha</th>\n",
              "      <th>lott_alpha</th>\n",
              "      <th>beta</th>\n",
              "      <th>ref_EU</th>\n",
              "      <th>lott_EU</th>\n",
              "    </tr>\n",
              "  </thead>\n",
              "  <tbody>\n",
              "    <tr>\n",
              "      <th>260</th>\n",
              "      <td>C+</td>\n",
              "      <td>1</td>\n",
              "      <td>1</td>\n",
              "      <td>C+</td>\n",
              "      <td>5.0</td>\n",
              "      <td>0.13</td>\n",
              "      <td>0.8</td>\n",
              "      <td>0.8</td>\n",
              "      <td>1.8</td>\n",
              "      <td>1.000000</td>\n",
              "      <td>0.471107</td>\n",
              "    </tr>\n",
              "    <tr>\n",
              "      <th>394</th>\n",
              "      <td>Money</td>\n",
              "      <td>2</td>\n",
              "      <td>1</td>\n",
              "      <td>Money</td>\n",
              "      <td>22.5</td>\n",
              "      <td>0.75</td>\n",
              "      <td>0.7</td>\n",
              "      <td>0.7</td>\n",
              "      <td>1.8</td>\n",
              "      <td>1.624505</td>\n",
              "      <td>6.631153</td>\n",
              "    </tr>\n",
              "    <tr>\n",
              "      <th>314</th>\n",
              "      <td>Money</td>\n",
              "      <td>2</td>\n",
              "      <td>1</td>\n",
              "      <td>Money</td>\n",
              "      <td>10.0</td>\n",
              "      <td>0.75</td>\n",
              "      <td>0.7</td>\n",
              "      <td>0.7</td>\n",
              "      <td>1.8</td>\n",
              "      <td>1.624505</td>\n",
              "      <td>3.758904</td>\n",
              "    </tr>\n",
              "    <tr>\n",
              "      <th>49</th>\n",
              "      <td>C+</td>\n",
              "      <td>1</td>\n",
              "      <td>1</td>\n",
              "      <td>C+</td>\n",
              "      <td>25.0</td>\n",
              "      <td>0.75</td>\n",
              "      <td>0.8</td>\n",
              "      <td>0.8</td>\n",
              "      <td>1.8</td>\n",
              "      <td>1.000000</td>\n",
              "      <td>9.849479</td>\n",
              "    </tr>\n",
              "    <tr>\n",
              "      <th>76</th>\n",
              "      <td>Money</td>\n",
              "      <td>2</td>\n",
              "      <td>1</td>\n",
              "      <td>Money</td>\n",
              "      <td>2.0</td>\n",
              "      <td>0.22</td>\n",
              "      <td>0.7</td>\n",
              "      <td>0.7</td>\n",
              "      <td>1.8</td>\n",
              "      <td>1.624505</td>\n",
              "      <td>0.357391</td>\n",
              "    </tr>\n",
              "  </tbody>\n",
              "</table>\n",
              "</div>\n",
              "      <button class=\"colab-df-convert\" onclick=\"convertToInteractive('df-dc0aeeee-4fbf-4cd7-bfd9-9c3fd4b01334')\"\n",
              "              title=\"Convert this dataframe to an interactive table.\"\n",
              "              style=\"display:none;\">\n",
              "        \n",
              "  <svg xmlns=\"http://www.w3.org/2000/svg\" height=\"24px\"viewBox=\"0 0 24 24\"\n",
              "       width=\"24px\">\n",
              "    <path d=\"M0 0h24v24H0V0z\" fill=\"none\"/>\n",
              "    <path d=\"M18.56 5.44l.94 2.06.94-2.06 2.06-.94-2.06-.94-.94-2.06-.94 2.06-2.06.94zm-11 1L8.5 8.5l.94-2.06 2.06-.94-2.06-.94L8.5 2.5l-.94 2.06-2.06.94zm10 10l.94 2.06.94-2.06 2.06-.94-2.06-.94-.94-2.06-.94 2.06-2.06.94z\"/><path d=\"M17.41 7.96l-1.37-1.37c-.4-.4-.92-.59-1.43-.59-.52 0-1.04.2-1.43.59L10.3 9.45l-7.72 7.72c-.78.78-.78 2.05 0 2.83L4 21.41c.39.39.9.59 1.41.59.51 0 1.02-.2 1.41-.59l7.78-7.78 2.81-2.81c.8-.78.8-2.07 0-2.86zM5.41 20L4 18.59l7.72-7.72 1.47 1.35L5.41 20z\"/>\n",
              "  </svg>\n",
              "      </button>\n",
              "      \n",
              "  <style>\n",
              "    .colab-df-container {\n",
              "      display:flex;\n",
              "      flex-wrap:wrap;\n",
              "      gap: 12px;\n",
              "    }\n",
              "\n",
              "    .colab-df-convert {\n",
              "      background-color: #E8F0FE;\n",
              "      border: none;\n",
              "      border-radius: 50%;\n",
              "      cursor: pointer;\n",
              "      display: none;\n",
              "      fill: #1967D2;\n",
              "      height: 32px;\n",
              "      padding: 0 0 0 0;\n",
              "      width: 32px;\n",
              "    }\n",
              "\n",
              "    .colab-df-convert:hover {\n",
              "      background-color: #E2EBFA;\n",
              "      box-shadow: 0px 1px 2px rgba(60, 64, 67, 0.3), 0px 1px 3px 1px rgba(60, 64, 67, 0.15);\n",
              "      fill: #174EA6;\n",
              "    }\n",
              "\n",
              "    [theme=dark] .colab-df-convert {\n",
              "      background-color: #3B4455;\n",
              "      fill: #D2E3FC;\n",
              "    }\n",
              "\n",
              "    [theme=dark] .colab-df-convert:hover {\n",
              "      background-color: #434B5C;\n",
              "      box-shadow: 0px 1px 3px 1px rgba(0, 0, 0, 0.15);\n",
              "      filter: drop-shadow(0px 1px 2px rgba(0, 0, 0, 0.3));\n",
              "      fill: #FFFFFF;\n",
              "    }\n",
              "  </style>\n",
              "\n",
              "      <script>\n",
              "        const buttonEl =\n",
              "          document.querySelector('#df-dc0aeeee-4fbf-4cd7-bfd9-9c3fd4b01334 button.colab-df-convert');\n",
              "        buttonEl.style.display =\n",
              "          google.colab.kernel.accessAllowed ? 'block' : 'none';\n",
              "\n",
              "        async function convertToInteractive(key) {\n",
              "          const element = document.querySelector('#df-dc0aeeee-4fbf-4cd7-bfd9-9c3fd4b01334');\n",
              "          const dataTable =\n",
              "            await google.colab.kernel.invokeFunction('convertToInteractive',\n",
              "                                                     [key], {});\n",
              "          if (!dataTable) return;\n",
              "\n",
              "          const docLinkHtml = 'Like what you see? Visit the ' +\n",
              "            '<a target=\"_blank\" href=https://colab.research.google.com/notebooks/data_table.ipynb>data table notebook</a>'\n",
              "            + ' to learn more about interactive tables.';\n",
              "          element.innerHTML = '';\n",
              "          dataTable['output_type'] = 'display_data';\n",
              "          await google.colab.output.renderOutput(dataTable, element);\n",
              "          const docLink = document.createElement('div');\n",
              "          docLink.innerHTML = docLinkHtml;\n",
              "          element.appendChild(docLink);\n",
              "        }\n",
              "      </script>\n",
              "    </div>\n",
              "  </div>\n",
              "  "
            ]
          },
          "metadata": {},
          "execution_count": 97
        }
      ]
    },
    {
      "cell_type": "markdown",
      "source": [
        "###### Simulate Choices"
      ],
      "metadata": {
        "id": "TNvA24z5jXu8"
      }
    },
    {
      "cell_type": "code",
      "source": [
        "seed = 1\n",
        "rng = np.random.default_rng(1)\n",
        "\n",
        "sameType_sim_df[column_names[12]] = sameType_sim_df.apply(lambda row: get_choice(row), axis=1)\n",
        "sameType_sim_df.sample(5)"
      ],
      "metadata": {
        "colab": {
          "base_uri": "https://localhost:8080/",
          "height": 206
        },
        "id": "0NIaYKKejXPW",
        "outputId": "7b5a979e-a015-4b9e-a344-ec230488ff75"
      },
      "execution_count": null,
      "outputs": [
        {
          "output_type": "execute_result",
          "data": {
            "text/plain": [
              "    ref_type  ref_qt  ref_prob lott_type  lottery_qt  lottery_prob  ref_alpha  \\\n",
              "108       C+       1         1        C+         2.0          0.50        0.8   \n",
              "345       C+       1         1        C+        25.0          0.13        0.8   \n",
              "176       C+       1         1        C+         1.0          0.22        0.8   \n",
              "232    Money       2         1     Money         4.5          0.38        0.7   \n",
              "343       C+       1         1        C+        11.0          0.50        0.8   \n",
              "\n",
              "     lott_alpha  beta    ref_EU   lott_EU        pL  choice  \n",
              "108         0.8   1.8  1.000000  0.870551  0.442010       1  \n",
              "345         0.8   1.8  1.000000  1.707243  0.781262       1  \n",
              "176         0.8   1.8  1.000000  0.220000  0.197182       0  \n",
              "232         0.7   1.8  1.624505  1.089011  0.276100       0  \n",
              "343         0.8   1.8  1.000000  3.404742  0.986985       1  "
            ],
            "text/html": [
              "\n",
              "  <div id=\"df-46d7fad1-3865-46d2-b44f-1c66f0af05cf\">\n",
              "    <div class=\"colab-df-container\">\n",
              "      <div>\n",
              "<style scoped>\n",
              "    .dataframe tbody tr th:only-of-type {\n",
              "        vertical-align: middle;\n",
              "    }\n",
              "\n",
              "    .dataframe tbody tr th {\n",
              "        vertical-align: top;\n",
              "    }\n",
              "\n",
              "    .dataframe thead th {\n",
              "        text-align: right;\n",
              "    }\n",
              "</style>\n",
              "<table border=\"1\" class=\"dataframe\">\n",
              "  <thead>\n",
              "    <tr style=\"text-align: right;\">\n",
              "      <th></th>\n",
              "      <th>ref_type</th>\n",
              "      <th>ref_qt</th>\n",
              "      <th>ref_prob</th>\n",
              "      <th>lott_type</th>\n",
              "      <th>lottery_qt</th>\n",
              "      <th>lottery_prob</th>\n",
              "      <th>ref_alpha</th>\n",
              "      <th>lott_alpha</th>\n",
              "      <th>beta</th>\n",
              "      <th>ref_EU</th>\n",
              "      <th>lott_EU</th>\n",
              "      <th>pL</th>\n",
              "      <th>choice</th>\n",
              "    </tr>\n",
              "  </thead>\n",
              "  <tbody>\n",
              "    <tr>\n",
              "      <th>108</th>\n",
              "      <td>C+</td>\n",
              "      <td>1</td>\n",
              "      <td>1</td>\n",
              "      <td>C+</td>\n",
              "      <td>2.0</td>\n",
              "      <td>0.50</td>\n",
              "      <td>0.8</td>\n",
              "      <td>0.8</td>\n",
              "      <td>1.8</td>\n",
              "      <td>1.000000</td>\n",
              "      <td>0.870551</td>\n",
              "      <td>0.442010</td>\n",
              "      <td>1</td>\n",
              "    </tr>\n",
              "    <tr>\n",
              "      <th>345</th>\n",
              "      <td>C+</td>\n",
              "      <td>1</td>\n",
              "      <td>1</td>\n",
              "      <td>C+</td>\n",
              "      <td>25.0</td>\n",
              "      <td>0.13</td>\n",
              "      <td>0.8</td>\n",
              "      <td>0.8</td>\n",
              "      <td>1.8</td>\n",
              "      <td>1.000000</td>\n",
              "      <td>1.707243</td>\n",
              "      <td>0.781262</td>\n",
              "      <td>1</td>\n",
              "    </tr>\n",
              "    <tr>\n",
              "      <th>176</th>\n",
              "      <td>C+</td>\n",
              "      <td>1</td>\n",
              "      <td>1</td>\n",
              "      <td>C+</td>\n",
              "      <td>1.0</td>\n",
              "      <td>0.22</td>\n",
              "      <td>0.8</td>\n",
              "      <td>0.8</td>\n",
              "      <td>1.8</td>\n",
              "      <td>1.000000</td>\n",
              "      <td>0.220000</td>\n",
              "      <td>0.197182</td>\n",
              "      <td>0</td>\n",
              "    </tr>\n",
              "    <tr>\n",
              "      <th>232</th>\n",
              "      <td>Money</td>\n",
              "      <td>2</td>\n",
              "      <td>1</td>\n",
              "      <td>Money</td>\n",
              "      <td>4.5</td>\n",
              "      <td>0.38</td>\n",
              "      <td>0.7</td>\n",
              "      <td>0.7</td>\n",
              "      <td>1.8</td>\n",
              "      <td>1.624505</td>\n",
              "      <td>1.089011</td>\n",
              "      <td>0.276100</td>\n",
              "      <td>0</td>\n",
              "    </tr>\n",
              "    <tr>\n",
              "      <th>343</th>\n",
              "      <td>C+</td>\n",
              "      <td>1</td>\n",
              "      <td>1</td>\n",
              "      <td>C+</td>\n",
              "      <td>11.0</td>\n",
              "      <td>0.50</td>\n",
              "      <td>0.8</td>\n",
              "      <td>0.8</td>\n",
              "      <td>1.8</td>\n",
              "      <td>1.000000</td>\n",
              "      <td>3.404742</td>\n",
              "      <td>0.986985</td>\n",
              "      <td>1</td>\n",
              "    </tr>\n",
              "  </tbody>\n",
              "</table>\n",
              "</div>\n",
              "      <button class=\"colab-df-convert\" onclick=\"convertToInteractive('df-46d7fad1-3865-46d2-b44f-1c66f0af05cf')\"\n",
              "              title=\"Convert this dataframe to an interactive table.\"\n",
              "              style=\"display:none;\">\n",
              "        \n",
              "  <svg xmlns=\"http://www.w3.org/2000/svg\" height=\"24px\"viewBox=\"0 0 24 24\"\n",
              "       width=\"24px\">\n",
              "    <path d=\"M0 0h24v24H0V0z\" fill=\"none\"/>\n",
              "    <path d=\"M18.56 5.44l.94 2.06.94-2.06 2.06-.94-2.06-.94-.94-2.06-.94 2.06-2.06.94zm-11 1L8.5 8.5l.94-2.06 2.06-.94-2.06-.94L8.5 2.5l-.94 2.06-2.06.94zm10 10l.94 2.06.94-2.06 2.06-.94-2.06-.94-.94-2.06-.94 2.06-2.06.94z\"/><path d=\"M17.41 7.96l-1.37-1.37c-.4-.4-.92-.59-1.43-.59-.52 0-1.04.2-1.43.59L10.3 9.45l-7.72 7.72c-.78.78-.78 2.05 0 2.83L4 21.41c.39.39.9.59 1.41.59.51 0 1.02-.2 1.41-.59l7.78-7.78 2.81-2.81c.8-.78.8-2.07 0-2.86zM5.41 20L4 18.59l7.72-7.72 1.47 1.35L5.41 20z\"/>\n",
              "  </svg>\n",
              "      </button>\n",
              "      \n",
              "  <style>\n",
              "    .colab-df-container {\n",
              "      display:flex;\n",
              "      flex-wrap:wrap;\n",
              "      gap: 12px;\n",
              "    }\n",
              "\n",
              "    .colab-df-convert {\n",
              "      background-color: #E8F0FE;\n",
              "      border: none;\n",
              "      border-radius: 50%;\n",
              "      cursor: pointer;\n",
              "      display: none;\n",
              "      fill: #1967D2;\n",
              "      height: 32px;\n",
              "      padding: 0 0 0 0;\n",
              "      width: 32px;\n",
              "    }\n",
              "\n",
              "    .colab-df-convert:hover {\n",
              "      background-color: #E2EBFA;\n",
              "      box-shadow: 0px 1px 2px rgba(60, 64, 67, 0.3), 0px 1px 3px 1px rgba(60, 64, 67, 0.15);\n",
              "      fill: #174EA6;\n",
              "    }\n",
              "\n",
              "    [theme=dark] .colab-df-convert {\n",
              "      background-color: #3B4455;\n",
              "      fill: #D2E3FC;\n",
              "    }\n",
              "\n",
              "    [theme=dark] .colab-df-convert:hover {\n",
              "      background-color: #434B5C;\n",
              "      box-shadow: 0px 1px 3px 1px rgba(0, 0, 0, 0.15);\n",
              "      filter: drop-shadow(0px 1px 2px rgba(0, 0, 0, 0.3));\n",
              "      fill: #FFFFFF;\n",
              "    }\n",
              "  </style>\n",
              "\n",
              "      <script>\n",
              "        const buttonEl =\n",
              "          document.querySelector('#df-46d7fad1-3865-46d2-b44f-1c66f0af05cf button.colab-df-convert');\n",
              "        buttonEl.style.display =\n",
              "          google.colab.kernel.accessAllowed ? 'block' : 'none';\n",
              "\n",
              "        async function convertToInteractive(key) {\n",
              "          const element = document.querySelector('#df-46d7fad1-3865-46d2-b44f-1c66f0af05cf');\n",
              "          const dataTable =\n",
              "            await google.colab.kernel.invokeFunction('convertToInteractive',\n",
              "                                                     [key], {});\n",
              "          if (!dataTable) return;\n",
              "\n",
              "          const docLinkHtml = 'Like what you see? Visit the ' +\n",
              "            '<a target=\"_blank\" href=https://colab.research.google.com/notebooks/data_table.ipynb>data table notebook</a>'\n",
              "            + ' to learn more about interactive tables.';\n",
              "          element.innerHTML = '';\n",
              "          dataTable['output_type'] = 'display_data';\n",
              "          await google.colab.output.renderOutput(dataTable, element);\n",
              "          const docLink = document.createElement('div');\n",
              "          docLink.innerHTML = docLinkHtml;\n",
              "          element.appendChild(docLink);\n",
              "        }\n",
              "      </script>\n",
              "    </div>\n",
              "  </div>\n",
              "  "
            ]
          },
          "metadata": {},
          "execution_count": 120
        }
      ]
    },
    {
      "cell_type": "markdown",
      "source": [
        "##### Estimate Parameters"
      ],
      "metadata": {
        "id": "LIvXC4U77s0G"
      }
    },
    {
      "cell_type": "code",
      "source": [
        "optimize_cols = column_names[:6]  + [column_names[12]]\n",
        "def get_likelihood(row, params, cols = optimize_cols):\n",
        "  ref_type = row[cols[0]]\n",
        "  lott_type = row[cols[3]]\n",
        "  if len(params) == 4:\n",
        "    (alpha_money, alpha_Cplus, alpha_Cminus, beta) = params\n",
        "    alphas = {'Money' : alpha_money,\n",
        "             'C+' : alpha_Cplus,\n",
        "             'C-' : alpha_Cminus}\n",
        "    ref_alpha = alphas[ref_type]\n",
        "    lott_alpha = alphas[lott_type]\n",
        "  elif len(params) == 6:\n",
        "    (alpha_money, alpha_Cplus, alpha_Cminus, beta_money, beta_Cplus, beta_Cminus) = params\n",
        "    alphas = {'Money' : alpha_money,\n",
        "             'C+' : alpha_Cplus,\n",
        "             'C-' : alpha_Cminus}\n",
        "    betas = {'Money' : beta_money,\n",
        "             'C+' : beta_Cplus,\n",
        "             'C-' : beta_Cminus}\n",
        "    ref_alpha = alphas[ref_type]\n",
        "    lott_alpha = alphas[lott_type]\n",
        "    beta = betas[lott_type]\n",
        "  \n",
        "  choice = row[cols[6]]\n",
        "\n",
        "  ref_X = row[cols[1]]\n",
        "  ref_p = row[cols[2]]\n",
        "  ref_EU = get_EU_(ref_p, ref_X, ref_alpha)\n",
        "  \n",
        "  lott_X = row[cols[4]]\n",
        "  lott_p = row[cols[5]]\n",
        "  lott_EU = get_EU_(lott_p, lott_X, lott_alpha)\n",
        "\n",
        "  pL = get_pL_(lott_EU, ref_EU, beta)\n",
        "  if choice == 1:\n",
        "    likelihood = pL\n",
        "  else:\n",
        "    likelihood = 1 - pL\n",
        "  return likelihood\n",
        "\n",
        "def get_negLogLikelihood(params, args):\n",
        "\n",
        "  (df) = args\n",
        "  task_cols = optimize_cols\n",
        "  # compute likelihood of each choice\n",
        "  likelihood = df.apply(lambda row: get_likelihood(row, params, cols = task_cols), axis=1).values\n",
        "  # Take negative of logLikelihood for convention\n",
        "  negloglikelihood = - np.sum(np.log(likelihood))\n",
        "  return negloglikelihood\n"
      ],
      "metadata": {
        "id": "L2r5NonW6OGq"
      },
      "execution_count": null,
      "outputs": []
    },
    {
      "cell_type": "markdown",
      "source": [
        "###### 3 alphas + 1 beta"
      ],
      "metadata": {
        "id": "GAFBewPr3KMf"
      }
    },
    {
      "cell_type": "code",
      "source": [
        "alphaMoney0 = 1\n",
        "alphaCplus0 = 1\n",
        "alphaCminus0 = 1\n",
        "beta0 = 2\n",
        "\n",
        "args = (df)\n",
        "x0 = (alphaMoney0, alphaCplus0, alphaCminus0, beta0)\n",
        "res = minimize(get_negLogLikelihood, x0, args=args )\n",
        "print('{}\\n  - parameters: {}'.format(res.message, res.x))"
      ],
      "metadata": {
        "id": "PgfWQ4RnWyu0",
        "colab": {
          "base_uri": "https://localhost:8080/"
        },
        "outputId": "8bfe0552-dc08-4811-d627-67c0b50e00bd"
      },
      "execution_count": null,
      "outputs": [
        {
          "output_type": "stream",
          "name": "stderr",
          "text": [
            "/usr/local/lib/python3.7/dist-packages/ipykernel_launcher.py:48: RuntimeWarning: divide by zero encountered in log\n",
            "/usr/local/lib/python3.7/dist-packages/scipy/optimize/_numdiff.py:557: RuntimeWarning: invalid value encountered in subtract\n",
            "  df = fun(x) - f0\n",
            "/usr/local/lib/python3.7/dist-packages/ipykernel_launcher.py:48: RuntimeWarning: divide by zero encountered in log\n"
          ]
        },
        {
          "output_type": "stream",
          "name": "stdout",
          "text": [
            "Optimization terminated successfully.\n",
            "  - parameters: [0.71529899 0.8626828  0.84339465 1.85326669]\n"
          ]
        }
      ]
    },
    {
      "cell_type": "markdown",
      "source": [
        "###### 3 alphas + 3 betas"
      ],
      "metadata": {
        "id": "a55GQyu05J12"
      }
    },
    {
      "cell_type": "code",
      "source": [
        "alphaMoney0 = 1\n",
        "alphaCplus0 = 1\n",
        "alphaCminus0 = 1\n",
        "betaMoney0 = 2\n",
        "betaCplus0 = 2\n",
        "betaCminus0 = 2\n",
        "\n",
        "args = (df)\n",
        "x0 = (alphaMoney0, alphaCplus0, alphaCminus0, betaMoney0, betaCplus0, betaCminus0)\n",
        "res = minimize(get_negLogLikelihood, x0, args=args )\n",
        "print('{}\\n  - parameters: {}'.format(res.message, res.x))"
      ],
      "metadata": {
        "id": "aHmOe7e9Z-oP",
        "colab": {
          "base_uri": "https://localhost:8080/"
        },
        "outputId": "e64da0e1-b0d6-4e61-b4de-8e3d3a389ae9"
      },
      "execution_count": null,
      "outputs": [
        {
          "output_type": "stream",
          "name": "stdout",
          "text": [
            "Optimization terminated successfully.\n",
            "  - parameters: [0.75035941 0.8230851  0.82070782 1.40217176 2.40480505 2.1533486 ]\n"
          ]
        }
      ]
    },
    {
      "cell_type": "markdown",
      "source": [
        "#### Group"
      ],
      "metadata": {
        "id": "xVwDQ0pK16wv"
      }
    },
    {
      "cell_type": "markdown",
      "source": [
        "##### Initialization parameters"
      ],
      "metadata": {
        "id": "vdvNY_w216ww"
      }
    },
    {
      "cell_type": "code",
      "source": [
        "N = 2\n",
        "Subject_noiseLevel = 0.2\n",
        "Trial_noiseLevel = 0.2\n",
        "\n",
        "# %% Subject specific parameters\n",
        "money_alpha = 0.3\n",
        "yogiCplus_alpha = 0.3\n",
        "yogiCminus_alpha = 0.3"
      ],
      "metadata": {
        "id": "QRn8IUaD16ww"
      },
      "execution_count": null,
      "outputs": []
    }
  ]
}
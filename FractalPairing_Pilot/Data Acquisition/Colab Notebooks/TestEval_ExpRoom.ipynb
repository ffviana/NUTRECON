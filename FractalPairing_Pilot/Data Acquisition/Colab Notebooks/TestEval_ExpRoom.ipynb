{
  "nbformat": 4,
  "nbformat_minor": 0,
  "metadata": {
    "colab": {
      "name": "TestEval ExpRoom.ipynb",
      "provenance": [],
      "collapsed_sections": [],
      "toc_visible": true,
      "include_colab_link": true
    },
    "kernelspec": {
      "name": "python3",
      "display_name": "Python 3"
    },
    "language_info": {
      "name": "python"
    }
  },
  "cells": [
    {
      "cell_type": "markdown",
      "metadata": {
        "id": "view-in-github",
        "colab_type": "text"
      },
      "source": [
        "<a href=\"https://colab.research.google.com/github/ffviana/NUTRECON/blob/main/FractalPairing_Pilot/Data%20Acquisition/Colab%20Notebooks/TestEval_ExpRoom.ipynb\" target=\"_parent\"><img src=\"https://colab.research.google.com/assets/colab-badge.svg\" alt=\"Open In Colab\"/></a>"
      ]
    },
    {
      "cell_type": "code",
      "execution_count": null,
      "metadata": {
        "id": "AhoZz6t_OBCm",
        "colab": {
          "base_uri": "https://localhost:8080/"
        },
        "outputId": "4b6c1b8a-ce84-451a-866c-15ca903ee661"
      },
      "outputs": [
        {
          "output_type": "stream",
          "name": "stdout",
          "text": [
            "Mounted at /content/drive\n"
          ]
        }
      ],
      "source": [
        "import pickle\n",
        "import json\n",
        "import numpy as np\n",
        "import pandas as pd\n",
        "from glob import glob\n",
        "from random import shuffle\n",
        "\n",
        "from sklearn.metrics import classification_report\n",
        "from sklearn.metrics import confusion_matrix\n",
        "import matplotlib.pyplot as plt\n",
        "import seaborn as sns\n",
        "\n",
        "base_folder = '/content/drive/MyDrive/Food Reward and Behaviour/Humans/Projects/2. NUTRECON/FlavorFractal optimization/1. DataAcquisition/ExperimentsRoom'\n",
        "subjectFigures_folder = '/content/drive/MyDrive/Food Reward and Behaviour/Humans/Projects/2. NUTRECON/FlavorFractal optimization/3. Analyses/Subject_by_Subject_plots'\n",
        "\n",
        "sequenceFolder = base_folder + '/SitmulusPresentationSequence'\n",
        "AssTestFolder = base_folder + '/AssociationTask_ExperimentsRoom'\n",
        "\n",
        "fractalDecoder = {0: 'Fractal I',\n",
        "                  1: 'Fractal II',\n",
        "                  2: 'Fractal III',\n",
        "                  3: 'Fractal IV',\n",
        "                  4: 'Fractal V',\n",
        "                  5: 'Fractal VI'\n",
        "                  }\n",
        "\n",
        "def bold(text):\n",
        "  return '\\033[1m' + text + '\\033[0m'\n",
        "\n",
        "def printFiles(sequenceFolder, AssTestFolder, Subject_code):\n",
        "  path_sequence_ = glob('{}/{}*.npy'.format(sequenceFolder, Subject_code) )\n",
        "  path_AssTest_ = glob('{}/{}*'.format(AssTestFolder, Subject_code) )\n",
        "  sequence_files = [p.split('/')[-1] for p in path_sequence_]\n",
        "  AssTest_files = [p.split('/')[-1] for p in path_AssTest_ if not 'misClicks' in p]\n",
        "\n",
        "  print(bold('Sequence Files for subject {}:'.format(Subject_code)))\n",
        "  for p in sequence_files:\n",
        "    print('\\t- {}'.format(p))\n",
        "    \n",
        "  print('\\n')\n",
        "  print(bold('Association Test Files for subject {}:'.format(Subject_code)))\n",
        "  for p in AssTest_files:\n",
        "    print('\\t- {}'.format(p))\n",
        "  \n",
        "  return\n",
        "\n",
        "def reportAndConfusionMatrix(Sequence, Answers, flavorFractal_code = False):\n",
        "\n",
        "  targetNames = [fractalDecoder[p] for p in list(set(Sequence + Answers))]\n",
        "\n",
        "  report = classification_report(Sequence, Answers, \n",
        "              target_names = targetNames, zero_division = 0, output_dict = True)\n",
        "  print('\\t\\t\\t\\033[1mAccuracy:\\033[0m {}'.format(report['accuracy']))\n",
        "\n",
        "  #classification_report(Sequence, Answers, target_names = targetNames, zero_division = 0, output_dict = True)\n",
        "\n",
        "  #print(classification_report(Sequence, Answers, target_names = targetNames, \n",
        "  #      zero_division = 0).replace('precision','True Neg.')\n",
        "  #     .replace('recall','sensitivity')\n",
        "  #     .replace('support','Trials')\n",
        "  #     .split('macro')[0])\n",
        "  \n",
        "  fractal_labels = fractalDecoder.values()\n",
        "  flavor_labels = [flavorFractal_code[p] for p in fractal_labels]\n",
        "\n",
        "  fig, ax = plt.subplots(figsize=(5.5, 5.5), dpi=90)\n",
        "  mat = confusion_matrix(Sequence, Answers, labels = np.arange(6))\n",
        "  Zm = np.identity(len(mat))\n",
        "  sns.heatmap(mat.T, square=True, annot=True, fmt='d', cbar=False, ax = ax)\n",
        "  ax2 = ax.pcolor(Zm, facecolor='none', linewidth=4, edgecolor = 'blue')\n",
        "\n",
        "  ax.tick_params( direction = 'inout' )\n",
        "  ax.set_xlabel('Correct Factal')\n",
        "  ax.set_ylabel('Subject Choice')\n",
        "  ax.set_yticklabels(list(fractalDecoder.values()), rotation=0);\n",
        "  ax.set_xticklabels(list(fractalDecoder.values()), rotation=30, ha='right');\n",
        "  \n",
        "  flavors = [flavorFractal_code[p] for p in list(fractalDecoder.values())]\n",
        "  \n",
        "  ax_t = ax.secondary_xaxis('top')\n",
        "  ax_t.tick_params(axis='x', direction='inout')\n",
        "  ax_t.set_xticks(ax.get_xticks())\n",
        "  ax_t.set_xticklabels(flavors, rotation=30, ha='left');\n",
        "\n",
        "  ax_r = ax.secondary_yaxis('right')\n",
        "  ax_r.tick_params(axis='y', direction='inout')\n",
        "  ax_r.set_yticks(ax.get_yticks())\n",
        "  ax_r.set_yticklabels(flavors, rotation=0);\n",
        "\n",
        "  return fig\n",
        "\n",
        "def updateSubjectFile_Registery(sub_id, section, fname):\n",
        "\n",
        "  registery_fname = '/content/drive/MyDrive/Food Reward and Behaviour/Humans/Projects/2. NUTRECON/FlavorFractal optimization/2. Databases/subjectFiles_registration.json'\n",
        "  \n",
        "  # Read Registery\n",
        "  with open(registery_fname) as json_file:\n",
        "    registery = json.load(json_file)\n",
        "\n",
        "  # Update Subject Registery\n",
        "  subject_registery = registery.get(sub_id)\n",
        "  if subject_registery == None:\n",
        "    subject_registery = {}\n",
        "\n",
        "  if section in subject_registery.keys() and subject_registery[section] != fname:\n",
        "    print('File \\033[1m{}\\033[0m already exists for subject \\033[1m{}\\033[0m.'.format(section.upper(), sub_id.upper()))\n",
        "    print('Changing from:')\n",
        "    print('\\t{} -> {}'.format(section, subject_registery[section]))\n",
        "    print('To:')\n",
        "    print('\\t{} -> {}'.format(section, fname))\n",
        "\n",
        "    p = 1\n",
        "    while p == 1:\n",
        "      ans = input('\\nDo you wish to overwrite the registery? (yes[y]/no[n]) ')\n",
        "      if ans.lower() == 'no' or ans.lower() == 'n':\n",
        "        p = 0\n",
        "        file = subject_registery[section]\n",
        "      elif ans.lower() == 'yes' or ans.lower() == 'y':\n",
        "        subject_registery.update({section:fname})\n",
        "        file = fname\n",
        "\n",
        "#        # Update & save Registery\n",
        "#        registery.update({sub_id:subject_registery})\n",
        "#        with open(registery_fname, \"w\") as json_file:\n",
        "#          json.dump(registery, json_file)\n",
        "        p = 0\n",
        "      else:\n",
        "        print('Please type a valid answer.')\n",
        "  else:\n",
        "    subject_registery.update({section:fname})\n",
        "    file = fname\n",
        "\n",
        "  # Update & save Registery\n",
        "  registery.update({sub_id:subject_registery})\n",
        "  with open(registery_fname, \"w\") as json_file:\n",
        "    json.dump(registery, json_file)\n",
        "  print()\n",
        "\n",
        "  return file\n",
        "\n",
        "from google.colab import drive\n",
        "drive.mount('/content/drive')"
      ]
    },
    {
      "cell_type": "markdown",
      "source": [
        "# Enter Subject number"
      ],
      "metadata": {
        "id": "HoSPteHmIsdN"
      }
    },
    {
      "cell_type": "code",
      "source": [
        "Subject_number = 21  # CHANGE HERE\n",
        "\n",
        "# ==============================================================================\n",
        "\n",
        "Subject_code = 'ercffa_{:03d}'.format(Subject_number)\n",
        "\n",
        "printFiles(sequenceFolder, AssTestFolder, Subject_code)\n"
      ],
      "metadata": {
        "id": "SeJdmJ5MPpdV",
        "colab": {
          "base_uri": "https://localhost:8080/"
        },
        "outputId": "7a1b58ca-a0d7-46b1-f748-5f0fe31a1f97"
      },
      "execution_count": null,
      "outputs": [
        {
          "output_type": "stream",
          "name": "stdout",
          "text": [
            "\u001b[1mSequence Files for subject ercffa_021:\u001b[0m\n",
            "\t- ercffa_021_11-07-2022_08-18.npy\n",
            "\n",
            "\n",
            "\u001b[1mAssociation Test Files for subject ercffa_021:\u001b[0m\n",
            "\t- ercffa_021_11-07-2022_09-17.json\n",
            "\t- ercffa_021_11-07-2022_11-13.json\n"
          ]
        }
      ]
    },
    {
      "cell_type": "markdown",
      "source": [
        "## Define Sequence File name"
      ],
      "metadata": {
        "id": "zYef9YJsJZ5a"
      }
    },
    {
      "cell_type": "code",
      "source": [
        "Sequence_File = 'ercffa_021_11-07-2022_08-18.npy' #Change Here\n",
        "\n",
        "#===============================================================================\n",
        "\n",
        "Sequence_File = updateSubjectFile_Registery(Subject_code, 'sequence', Sequence_File)\n",
        "Sequence_Data = np.load('{}/{}'.format(sequenceFolder, Sequence_File), \n",
        "                        allow_pickle=True).item()"
      ],
      "metadata": {
        "colab": {
          "base_uri": "https://localhost:8080/"
        },
        "id": "vCCZ1bY4JX5U",
        "outputId": "d0347ff3-83a6-4012-fa19-5481ee46b918"
      },
      "execution_count": null,
      "outputs": [
        {
          "output_type": "stream",
          "name": "stdout",
          "text": [
            "\n"
          ]
        }
      ]
    },
    {
      "cell_type": "markdown",
      "source": [
        "## Check Presentation Order\n"
      ],
      "metadata": {
        "id": "KjwgO-4NI0-7"
      }
    },
    {
      "cell_type": "code",
      "source": [
        "Sequence_Data['Learning Order']"
      ],
      "metadata": {
        "colab": {
          "base_uri": "https://localhost:8080/",
          "height": 266
        },
        "id": "mrbicTxmJsJG",
        "outputId": "c2174374-cbf5-4c06-931d-72989ff34d03"
      },
      "execution_count": null,
      "outputs": [
        {
          "output_type": "execute_result",
          "data": {
            "text/plain": [
              "      Fractal Flavor_code         Flavor\n",
              "Order                                   \n",
              "1          VI           b  Black Currant\n",
              "2           I           d         Lychee\n",
              "3          II           f       Tamarind\n",
              "4          IV           e    Pomegranate\n",
              "5           V           a    Apple Cider\n",
              "6         III           c         Cashew"
            ],
            "text/html": [
              "\n",
              "  <div id=\"df-f9b0c8ba-2a46-4c04-bb07-f6977aa6744b\">\n",
              "    <div class=\"colab-df-container\">\n",
              "      <div>\n",
              "<style scoped>\n",
              "    .dataframe tbody tr th:only-of-type {\n",
              "        vertical-align: middle;\n",
              "    }\n",
              "\n",
              "    .dataframe tbody tr th {\n",
              "        vertical-align: top;\n",
              "    }\n",
              "\n",
              "    .dataframe thead th {\n",
              "        text-align: right;\n",
              "    }\n",
              "</style>\n",
              "<table border=\"1\" class=\"dataframe\">\n",
              "  <thead>\n",
              "    <tr style=\"text-align: right;\">\n",
              "      <th></th>\n",
              "      <th>Fractal</th>\n",
              "      <th>Flavor_code</th>\n",
              "      <th>Flavor</th>\n",
              "    </tr>\n",
              "    <tr>\n",
              "      <th>Order</th>\n",
              "      <th></th>\n",
              "      <th></th>\n",
              "      <th></th>\n",
              "    </tr>\n",
              "  </thead>\n",
              "  <tbody>\n",
              "    <tr>\n",
              "      <th>1</th>\n",
              "      <td>VI</td>\n",
              "      <td>b</td>\n",
              "      <td>Black Currant</td>\n",
              "    </tr>\n",
              "    <tr>\n",
              "      <th>2</th>\n",
              "      <td>I</td>\n",
              "      <td>d</td>\n",
              "      <td>Lychee</td>\n",
              "    </tr>\n",
              "    <tr>\n",
              "      <th>3</th>\n",
              "      <td>II</td>\n",
              "      <td>f</td>\n",
              "      <td>Tamarind</td>\n",
              "    </tr>\n",
              "    <tr>\n",
              "      <th>4</th>\n",
              "      <td>IV</td>\n",
              "      <td>e</td>\n",
              "      <td>Pomegranate</td>\n",
              "    </tr>\n",
              "    <tr>\n",
              "      <th>5</th>\n",
              "      <td>V</td>\n",
              "      <td>a</td>\n",
              "      <td>Apple Cider</td>\n",
              "    </tr>\n",
              "    <tr>\n",
              "      <th>6</th>\n",
              "      <td>III</td>\n",
              "      <td>c</td>\n",
              "      <td>Cashew</td>\n",
              "    </tr>\n",
              "  </tbody>\n",
              "</table>\n",
              "</div>\n",
              "      <button class=\"colab-df-convert\" onclick=\"convertToInteractive('df-f9b0c8ba-2a46-4c04-bb07-f6977aa6744b')\"\n",
              "              title=\"Convert this dataframe to an interactive table.\"\n",
              "              style=\"display:none;\">\n",
              "        \n",
              "  <svg xmlns=\"http://www.w3.org/2000/svg\" height=\"24px\"viewBox=\"0 0 24 24\"\n",
              "       width=\"24px\">\n",
              "    <path d=\"M0 0h24v24H0V0z\" fill=\"none\"/>\n",
              "    <path d=\"M18.56 5.44l.94 2.06.94-2.06 2.06-.94-2.06-.94-.94-2.06-.94 2.06-2.06.94zm-11 1L8.5 8.5l.94-2.06 2.06-.94-2.06-.94L8.5 2.5l-.94 2.06-2.06.94zm10 10l.94 2.06.94-2.06 2.06-.94-2.06-.94-.94-2.06-.94 2.06-2.06.94z\"/><path d=\"M17.41 7.96l-1.37-1.37c-.4-.4-.92-.59-1.43-.59-.52 0-1.04.2-1.43.59L10.3 9.45l-7.72 7.72c-.78.78-.78 2.05 0 2.83L4 21.41c.39.39.9.59 1.41.59.51 0 1.02-.2 1.41-.59l7.78-7.78 2.81-2.81c.8-.78.8-2.07 0-2.86zM5.41 20L4 18.59l7.72-7.72 1.47 1.35L5.41 20z\"/>\n",
              "  </svg>\n",
              "      </button>\n",
              "      \n",
              "  <style>\n",
              "    .colab-df-container {\n",
              "      display:flex;\n",
              "      flex-wrap:wrap;\n",
              "      gap: 12px;\n",
              "    }\n",
              "\n",
              "    .colab-df-convert {\n",
              "      background-color: #E8F0FE;\n",
              "      border: none;\n",
              "      border-radius: 50%;\n",
              "      cursor: pointer;\n",
              "      display: none;\n",
              "      fill: #1967D2;\n",
              "      height: 32px;\n",
              "      padding: 0 0 0 0;\n",
              "      width: 32px;\n",
              "    }\n",
              "\n",
              "    .colab-df-convert:hover {\n",
              "      background-color: #E2EBFA;\n",
              "      box-shadow: 0px 1px 2px rgba(60, 64, 67, 0.3), 0px 1px 3px 1px rgba(60, 64, 67, 0.15);\n",
              "      fill: #174EA6;\n",
              "    }\n",
              "\n",
              "    [theme=dark] .colab-df-convert {\n",
              "      background-color: #3B4455;\n",
              "      fill: #D2E3FC;\n",
              "    }\n",
              "\n",
              "    [theme=dark] .colab-df-convert:hover {\n",
              "      background-color: #434B5C;\n",
              "      box-shadow: 0px 1px 3px 1px rgba(0, 0, 0, 0.15);\n",
              "      filter: drop-shadow(0px 1px 2px rgba(0, 0, 0, 0.3));\n",
              "      fill: #FFFFFF;\n",
              "    }\n",
              "  </style>\n",
              "\n",
              "      <script>\n",
              "        const buttonEl =\n",
              "          document.querySelector('#df-f9b0c8ba-2a46-4c04-bb07-f6977aa6744b button.colab-df-convert');\n",
              "        buttonEl.style.display =\n",
              "          google.colab.kernel.accessAllowed ? 'block' : 'none';\n",
              "\n",
              "        async function convertToInteractive(key) {\n",
              "          const element = document.querySelector('#df-f9b0c8ba-2a46-4c04-bb07-f6977aa6744b');\n",
              "          const dataTable =\n",
              "            await google.colab.kernel.invokeFunction('convertToInteractive',\n",
              "                                                     [key], {});\n",
              "          if (!dataTable) return;\n",
              "\n",
              "          const docLinkHtml = 'Like what you see? Visit the ' +\n",
              "            '<a target=\"_blank\" href=https://colab.research.google.com/notebooks/data_table.ipynb>data table notebook</a>'\n",
              "            + ' to learn more about interactive tables.';\n",
              "          element.innerHTML = '';\n",
              "          dataTable['output_type'] = 'display_data';\n",
              "          await google.colab.output.renderOutput(dataTable, element);\n",
              "          const docLink = document.createElement('div');\n",
              "          docLink.innerHTML = docLinkHtml;\n",
              "          element.appendChild(docLink);\n",
              "        }\n",
              "      </script>\n",
              "    </div>\n",
              "  </div>\n",
              "  "
            ]
          },
          "metadata": {},
          "execution_count": 11
        }
      ]
    },
    {
      "cell_type": "markdown",
      "source": [
        "## Check Association Test 3 Order"
      ],
      "metadata": {
        "id": "XEYe_GrfJ3LG"
      }
    },
    {
      "cell_type": "code",
      "source": [
        "Sequence_Data['Association Test 3']"
      ],
      "metadata": {
        "id": "_Vb4zEANJ7e6",
        "colab": {
          "base_uri": "https://localhost:8080/",
          "height": 1000
        },
        "outputId": "182a3597-8225-490c-9e88-1e91f38561e4"
      },
      "execution_count": null,
      "outputs": [
        {
          "output_type": "execute_result",
          "data": {
            "text/plain": [
              "      Flavor_code         Flavor fractal\n",
              "Order                                   \n",
              "1               b  Black Currant       3\n",
              "2               d         Lychee       2\n",
              "3               d         Lychee       2\n",
              "4               b  Black Currant       3\n",
              "5               c         Cashew       0\n",
              "6               a    Apple Cider       1\n",
              "7               b  Black Currant       3\n",
              "8               f       Tamarind       4\n",
              "9               a    Apple Cider       1\n",
              "10              d         Lychee       2\n",
              "11              c         Cashew       0\n",
              "12              c         Cashew       0\n",
              "13              f       Tamarind       4\n",
              "14              b  Black Currant       3\n",
              "15              c         Cashew       0\n",
              "16              f       Tamarind       4\n",
              "17              f       Tamarind       4\n",
              "18              d         Lychee       2\n",
              "19              e    Pomegranate       5\n",
              "20              e    Pomegranate       5\n",
              "21              a    Apple Cider       1\n",
              "22              d         Lychee       2\n",
              "23              f       Tamarind       4\n",
              "24              b  Black Currant       3\n",
              "25              e    Pomegranate       5\n",
              "26              f       Tamarind       4\n",
              "27              a    Apple Cider       1\n",
              "28              b  Black Currant       3\n",
              "29              e    Pomegranate       5\n",
              "30              e    Pomegranate       5\n",
              "31              d         Lychee       2\n",
              "32              c         Cashew       0\n",
              "33              a    Apple Cider       1\n",
              "34              a    Apple Cider       1\n",
              "35              c         Cashew       0\n",
              "36              e    Pomegranate       5"
            ],
            "text/html": [
              "\n",
              "  <div id=\"df-5667a145-54d1-4d3f-be98-42079a89f122\">\n",
              "    <div class=\"colab-df-container\">\n",
              "      <div>\n",
              "<style scoped>\n",
              "    .dataframe tbody tr th:only-of-type {\n",
              "        vertical-align: middle;\n",
              "    }\n",
              "\n",
              "    .dataframe tbody tr th {\n",
              "        vertical-align: top;\n",
              "    }\n",
              "\n",
              "    .dataframe thead th {\n",
              "        text-align: right;\n",
              "    }\n",
              "</style>\n",
              "<table border=\"1\" class=\"dataframe\">\n",
              "  <thead>\n",
              "    <tr style=\"text-align: right;\">\n",
              "      <th></th>\n",
              "      <th>Flavor_code</th>\n",
              "      <th>Flavor</th>\n",
              "      <th>fractal</th>\n",
              "    </tr>\n",
              "    <tr>\n",
              "      <th>Order</th>\n",
              "      <th></th>\n",
              "      <th></th>\n",
              "      <th></th>\n",
              "    </tr>\n",
              "  </thead>\n",
              "  <tbody>\n",
              "    <tr>\n",
              "      <th>1</th>\n",
              "      <td>b</td>\n",
              "      <td>Black Currant</td>\n",
              "      <td>3</td>\n",
              "    </tr>\n",
              "    <tr>\n",
              "      <th>2</th>\n",
              "      <td>d</td>\n",
              "      <td>Lychee</td>\n",
              "      <td>2</td>\n",
              "    </tr>\n",
              "    <tr>\n",
              "      <th>3</th>\n",
              "      <td>d</td>\n",
              "      <td>Lychee</td>\n",
              "      <td>2</td>\n",
              "    </tr>\n",
              "    <tr>\n",
              "      <th>4</th>\n",
              "      <td>b</td>\n",
              "      <td>Black Currant</td>\n",
              "      <td>3</td>\n",
              "    </tr>\n",
              "    <tr>\n",
              "      <th>5</th>\n",
              "      <td>c</td>\n",
              "      <td>Cashew</td>\n",
              "      <td>0</td>\n",
              "    </tr>\n",
              "    <tr>\n",
              "      <th>6</th>\n",
              "      <td>a</td>\n",
              "      <td>Apple Cider</td>\n",
              "      <td>1</td>\n",
              "    </tr>\n",
              "    <tr>\n",
              "      <th>7</th>\n",
              "      <td>b</td>\n",
              "      <td>Black Currant</td>\n",
              "      <td>3</td>\n",
              "    </tr>\n",
              "    <tr>\n",
              "      <th>8</th>\n",
              "      <td>f</td>\n",
              "      <td>Tamarind</td>\n",
              "      <td>4</td>\n",
              "    </tr>\n",
              "    <tr>\n",
              "      <th>9</th>\n",
              "      <td>a</td>\n",
              "      <td>Apple Cider</td>\n",
              "      <td>1</td>\n",
              "    </tr>\n",
              "    <tr>\n",
              "      <th>10</th>\n",
              "      <td>d</td>\n",
              "      <td>Lychee</td>\n",
              "      <td>2</td>\n",
              "    </tr>\n",
              "    <tr>\n",
              "      <th>11</th>\n",
              "      <td>c</td>\n",
              "      <td>Cashew</td>\n",
              "      <td>0</td>\n",
              "    </tr>\n",
              "    <tr>\n",
              "      <th>12</th>\n",
              "      <td>c</td>\n",
              "      <td>Cashew</td>\n",
              "      <td>0</td>\n",
              "    </tr>\n",
              "    <tr>\n",
              "      <th>13</th>\n",
              "      <td>f</td>\n",
              "      <td>Tamarind</td>\n",
              "      <td>4</td>\n",
              "    </tr>\n",
              "    <tr>\n",
              "      <th>14</th>\n",
              "      <td>b</td>\n",
              "      <td>Black Currant</td>\n",
              "      <td>3</td>\n",
              "    </tr>\n",
              "    <tr>\n",
              "      <th>15</th>\n",
              "      <td>c</td>\n",
              "      <td>Cashew</td>\n",
              "      <td>0</td>\n",
              "    </tr>\n",
              "    <tr>\n",
              "      <th>16</th>\n",
              "      <td>f</td>\n",
              "      <td>Tamarind</td>\n",
              "      <td>4</td>\n",
              "    </tr>\n",
              "    <tr>\n",
              "      <th>17</th>\n",
              "      <td>f</td>\n",
              "      <td>Tamarind</td>\n",
              "      <td>4</td>\n",
              "    </tr>\n",
              "    <tr>\n",
              "      <th>18</th>\n",
              "      <td>d</td>\n",
              "      <td>Lychee</td>\n",
              "      <td>2</td>\n",
              "    </tr>\n",
              "    <tr>\n",
              "      <th>19</th>\n",
              "      <td>e</td>\n",
              "      <td>Pomegranate</td>\n",
              "      <td>5</td>\n",
              "    </tr>\n",
              "    <tr>\n",
              "      <th>20</th>\n",
              "      <td>e</td>\n",
              "      <td>Pomegranate</td>\n",
              "      <td>5</td>\n",
              "    </tr>\n",
              "    <tr>\n",
              "      <th>21</th>\n",
              "      <td>a</td>\n",
              "      <td>Apple Cider</td>\n",
              "      <td>1</td>\n",
              "    </tr>\n",
              "    <tr>\n",
              "      <th>22</th>\n",
              "      <td>d</td>\n",
              "      <td>Lychee</td>\n",
              "      <td>2</td>\n",
              "    </tr>\n",
              "    <tr>\n",
              "      <th>23</th>\n",
              "      <td>f</td>\n",
              "      <td>Tamarind</td>\n",
              "      <td>4</td>\n",
              "    </tr>\n",
              "    <tr>\n",
              "      <th>24</th>\n",
              "      <td>b</td>\n",
              "      <td>Black Currant</td>\n",
              "      <td>3</td>\n",
              "    </tr>\n",
              "    <tr>\n",
              "      <th>25</th>\n",
              "      <td>e</td>\n",
              "      <td>Pomegranate</td>\n",
              "      <td>5</td>\n",
              "    </tr>\n",
              "    <tr>\n",
              "      <th>26</th>\n",
              "      <td>f</td>\n",
              "      <td>Tamarind</td>\n",
              "      <td>4</td>\n",
              "    </tr>\n",
              "    <tr>\n",
              "      <th>27</th>\n",
              "      <td>a</td>\n",
              "      <td>Apple Cider</td>\n",
              "      <td>1</td>\n",
              "    </tr>\n",
              "    <tr>\n",
              "      <th>28</th>\n",
              "      <td>b</td>\n",
              "      <td>Black Currant</td>\n",
              "      <td>3</td>\n",
              "    </tr>\n",
              "    <tr>\n",
              "      <th>29</th>\n",
              "      <td>e</td>\n",
              "      <td>Pomegranate</td>\n",
              "      <td>5</td>\n",
              "    </tr>\n",
              "    <tr>\n",
              "      <th>30</th>\n",
              "      <td>e</td>\n",
              "      <td>Pomegranate</td>\n",
              "      <td>5</td>\n",
              "    </tr>\n",
              "    <tr>\n",
              "      <th>31</th>\n",
              "      <td>d</td>\n",
              "      <td>Lychee</td>\n",
              "      <td>2</td>\n",
              "    </tr>\n",
              "    <tr>\n",
              "      <th>32</th>\n",
              "      <td>c</td>\n",
              "      <td>Cashew</td>\n",
              "      <td>0</td>\n",
              "    </tr>\n",
              "    <tr>\n",
              "      <th>33</th>\n",
              "      <td>a</td>\n",
              "      <td>Apple Cider</td>\n",
              "      <td>1</td>\n",
              "    </tr>\n",
              "    <tr>\n",
              "      <th>34</th>\n",
              "      <td>a</td>\n",
              "      <td>Apple Cider</td>\n",
              "      <td>1</td>\n",
              "    </tr>\n",
              "    <tr>\n",
              "      <th>35</th>\n",
              "      <td>c</td>\n",
              "      <td>Cashew</td>\n",
              "      <td>0</td>\n",
              "    </tr>\n",
              "    <tr>\n",
              "      <th>36</th>\n",
              "      <td>e</td>\n",
              "      <td>Pomegranate</td>\n",
              "      <td>5</td>\n",
              "    </tr>\n",
              "  </tbody>\n",
              "</table>\n",
              "</div>\n",
              "      <button class=\"colab-df-convert\" onclick=\"convertToInteractive('df-5667a145-54d1-4d3f-be98-42079a89f122')\"\n",
              "              title=\"Convert this dataframe to an interactive table.\"\n",
              "              style=\"display:none;\">\n",
              "        \n",
              "  <svg xmlns=\"http://www.w3.org/2000/svg\" height=\"24px\"viewBox=\"0 0 24 24\"\n",
              "       width=\"24px\">\n",
              "    <path d=\"M0 0h24v24H0V0z\" fill=\"none\"/>\n",
              "    <path d=\"M18.56 5.44l.94 2.06.94-2.06 2.06-.94-2.06-.94-.94-2.06-.94 2.06-2.06.94zm-11 1L8.5 8.5l.94-2.06 2.06-.94-2.06-.94L8.5 2.5l-.94 2.06-2.06.94zm10 10l.94 2.06.94-2.06 2.06-.94-2.06-.94-.94-2.06-.94 2.06-2.06.94z\"/><path d=\"M17.41 7.96l-1.37-1.37c-.4-.4-.92-.59-1.43-.59-.52 0-1.04.2-1.43.59L10.3 9.45l-7.72 7.72c-.78.78-.78 2.05 0 2.83L4 21.41c.39.39.9.59 1.41.59.51 0 1.02-.2 1.41-.59l7.78-7.78 2.81-2.81c.8-.78.8-2.07 0-2.86zM5.41 20L4 18.59l7.72-7.72 1.47 1.35L5.41 20z\"/>\n",
              "  </svg>\n",
              "      </button>\n",
              "      \n",
              "  <style>\n",
              "    .colab-df-container {\n",
              "      display:flex;\n",
              "      flex-wrap:wrap;\n",
              "      gap: 12px;\n",
              "    }\n",
              "\n",
              "    .colab-df-convert {\n",
              "      background-color: #E8F0FE;\n",
              "      border: none;\n",
              "      border-radius: 50%;\n",
              "      cursor: pointer;\n",
              "      display: none;\n",
              "      fill: #1967D2;\n",
              "      height: 32px;\n",
              "      padding: 0 0 0 0;\n",
              "      width: 32px;\n",
              "    }\n",
              "\n",
              "    .colab-df-convert:hover {\n",
              "      background-color: #E2EBFA;\n",
              "      box-shadow: 0px 1px 2px rgba(60, 64, 67, 0.3), 0px 1px 3px 1px rgba(60, 64, 67, 0.15);\n",
              "      fill: #174EA6;\n",
              "    }\n",
              "\n",
              "    [theme=dark] .colab-df-convert {\n",
              "      background-color: #3B4455;\n",
              "      fill: #D2E3FC;\n",
              "    }\n",
              "\n",
              "    [theme=dark] .colab-df-convert:hover {\n",
              "      background-color: #434B5C;\n",
              "      box-shadow: 0px 1px 3px 1px rgba(0, 0, 0, 0.15);\n",
              "      filter: drop-shadow(0px 1px 2px rgba(0, 0, 0, 0.3));\n",
              "      fill: #FFFFFF;\n",
              "    }\n",
              "  </style>\n",
              "\n",
              "      <script>\n",
              "        const buttonEl =\n",
              "          document.querySelector('#df-5667a145-54d1-4d3f-be98-42079a89f122 button.colab-df-convert');\n",
              "        buttonEl.style.display =\n",
              "          google.colab.kernel.accessAllowed ? 'block' : 'none';\n",
              "\n",
              "        async function convertToInteractive(key) {\n",
              "          const element = document.querySelector('#df-5667a145-54d1-4d3f-be98-42079a89f122');\n",
              "          const dataTable =\n",
              "            await google.colab.kernel.invokeFunction('convertToInteractive',\n",
              "                                                     [key], {});\n",
              "          if (!dataTable) return;\n",
              "\n",
              "          const docLinkHtml = 'Like what you see? Visit the ' +\n",
              "            '<a target=\"_blank\" href=https://colab.research.google.com/notebooks/data_table.ipynb>data table notebook</a>'\n",
              "            + ' to learn more about interactive tables.';\n",
              "          element.innerHTML = '';\n",
              "          dataTable['output_type'] = 'display_data';\n",
              "          await google.colab.output.renderOutput(dataTable, element);\n",
              "          const docLink = document.createElement('div');\n",
              "          docLink.innerHTML = docLinkHtml;\n",
              "          element.appendChild(docLink);\n",
              "        }\n",
              "      </script>\n",
              "    </div>\n",
              "  </div>\n",
              "  "
            ]
          },
          "metadata": {},
          "execution_count": 14
        }
      ]
    },
    {
      "cell_type": "markdown",
      "source": [
        "### For Ass. 3 sequence, run before this section\n",
        "\n",
        "***"
      ],
      "metadata": {
        "id": "f7WtTbmwKV8A"
      }
    },
    {
      "cell_type": "markdown",
      "source": [
        "# Association Test Evaluation"
      ],
      "metadata": {
        "id": "EjFeL6dtJ703"
      }
    },
    {
      "cell_type": "markdown",
      "source": [
        "## Association Test 1"
      ],
      "metadata": {
        "id": "NbkUBN8eoFvH"
      }
    },
    {
      "cell_type": "code",
      "source": [
        "printFiles(sequenceFolder, AssTestFolder, Subject_code)"
      ],
      "metadata": {
        "id": "H7xz5DIXK4Ya",
        "colab": {
          "base_uri": "https://localhost:8080/"
        },
        "outputId": "6f400442-c818-4d07-ef50-affa08d9dcdb"
      },
      "execution_count": null,
      "outputs": [
        {
          "output_type": "stream",
          "name": "stdout",
          "text": [
            "\u001b[1mSequence Files for subject ercffa_022:\u001b[0m\n",
            "\t- ercffa_022_12-07-2022_09-41.npy\n",
            "\n",
            "\n",
            "\u001b[1mAssociation Test Files for subject ercffa_022:\u001b[0m\n",
            "\t- ercffa_022_12-07-2022_11-37.json\n",
            "\t- ercffa_022_12-07-2022_12-40.json\n",
            "\t- ercffa_022_13-07-2022_09-46.json\n"
          ]
        }
      ]
    },
    {
      "cell_type": "code",
      "source": [
        "Association_File_1 = 'ercffa_022_12-07-2022_11-37.json' #Change Here\n",
        "\n",
        "#===============================================================================\n",
        "\n",
        "Sequence_File = updateSubjectFile_Registery(Subject_code, 'sequence', Sequence_File)\n",
        "Association_File_1= updateSubjectFile_Registery(Subject_code, 'association_1', Association_File_1)\n",
        "\n",
        "\n",
        "\n",
        "AssTest_df = pd.read_json('{}/{}'.format(AssTestFolder, Association_File_1))\n",
        "\n",
        "Sequence_1 = Sequence_Data['Association Test 1']['fractal'].tolist()\n",
        "Answers_1 = AssTest_df['Fractal ID'].tolist()\n",
        "\n",
        "flavorFractal = Sequence_Data['Flavor-Fractal pairs'].drop(columns=['Flavor_code']).to_dict(orient = 'index')\n",
        "flavorFractal_code = {'Fractal {}'.format(key):flavorFractal[key]['Flavor'] for key, value in flavorFractal.items()}\n",
        "\n",
        "reportAndConfusionMatrix(Sequence_1, Answers_1, flavorFractal_code)\n",
        "plt.tight_layout()\n",
        "plt.savefig('{}/confusionMatrix_{}_association_1.png'.format(subjectFigures_folder, Subject_code))"
      ],
      "metadata": {
        "id": "SVYicVlOkd3Z",
        "colab": {
          "base_uri": "https://localhost:8080/",
          "height": 515
        },
        "outputId": "5873e238-4057-432e-cd64-ac3b6989ebd4"
      },
      "execution_count": null,
      "outputs": [
        {
          "output_type": "stream",
          "name": "stdout",
          "text": [
            "\n",
            "\n",
            "\t\t\t\u001b[1mAccuracy:\u001b[0m 0.5555555555555556\n"
          ]
        },
        {
          "output_type": "display_data",
          "data": {
            "text/plain": [
              "<Figure size 495x495 with 1 Axes>"
            ],
            "image/png": "[encoded data removed]"
          },
          "metadata": {
            "needs_background": "light"
          }
        }
      ]
    },
    {
      "cell_type": "markdown",
      "source": [
        "## Association Test 2"
      ],
      "metadata": {
        "id": "806cYJKJoMPy"
      }
    },
    {
      "cell_type": "code",
      "source": [
        "printFiles(sequenceFolder, AssTestFolder, Subject_code)"
      ],
      "metadata": {
        "id": "Yi4GwNsdtJ9_",
        "colab": {
          "base_uri": "https://localhost:8080/"
        },
        "outputId": "38316e71-d5fe-42a6-cc6c-a8e392d4e161"
      },
      "execution_count": null,
      "outputs": [
        {
          "output_type": "stream",
          "name": "stdout",
          "text": [
            "\u001b[1mSequence Files for subject ercffa_022:\u001b[0m\n",
            "\t- ercffa_022_12-07-2022_09-41.npy\n",
            "\n",
            "\n",
            "\u001b[1mAssociation Test Files for subject ercffa_022:\u001b[0m\n",
            "\t- ercffa_022_12-07-2022_11-37.json\n",
            "\t- ercffa_022_12-07-2022_12-40.json\n",
            "\t- ercffa_022_13-07-2022_09-46.json\n"
          ]
        }
      ]
    },
    {
      "cell_type": "code",
      "source": [
        "Association_File_2 = 'ercffa_022_12-07-2022_12-40.json' #Change Here\n",
        "\n",
        "#===============================================================================\n",
        "\n",
        "Association_File_2 = updateSubjectFile_Registery(Subject_code, 'association_2', Association_File_2)\n",
        "                      \n",
        "AssTest_df = pd.read_json('{}/{}'.format(AssTestFolder, Association_File_2))\n",
        "\n",
        "Sequence_2 = Sequence_Data['Association Test 2']['fractal'].tolist()\n",
        "Answers_2 = AssTest_df['Fractal ID'].tolist()\n",
        "\n",
        "reportAndConfusionMatrix(Sequence_2, Answers_2, flavorFractal_code)\n",
        "plt.tight_layout()\n",
        "plt.savefig('{}/confusionMatrix_{}_association_2.png'.format(subjectFigures_folder, Subject_code))"
      ],
      "metadata": {
        "id": "SdHwhkXeJY43",
        "colab": {
          "base_uri": "https://localhost:8080/",
          "height": 498
        },
        "outputId": "999c54db-3d98-4a5c-aa68-4403b737ba9e"
      },
      "execution_count": null,
      "outputs": [
        {
          "output_type": "stream",
          "name": "stdout",
          "text": [
            "\n",
            "\t\t\t\u001b[1mAccuracy:\u001b[0m 0.8055555555555556\n"
          ]
        },
        {
          "output_type": "display_data",
          "data": {
            "text/plain": [
              "<Figure size 495x495 with 1 Axes>"
            ],
            "image/png": "[encoded data removed]"
          },
          "metadata": {
            "needs_background": "light"
          }
        }
      ]
    },
    {
      "cell_type": "markdown",
      "source": [
        "## Association Test 3"
      ],
      "metadata": {
        "id": "MmG6I6NOoPGV"
      }
    },
    {
      "cell_type": "code",
      "source": [
        "printFiles(sequenceFolder, AssTestFolder, Subject_code)"
      ],
      "metadata": {
        "id": "CHzPg6kVyx5a",
        "colab": {
          "base_uri": "https://localhost:8080/"
        },
        "outputId": "90fc29e6-c658-41e1-a3e8-e36bbb3b0a8d"
      },
      "execution_count": null,
      "outputs": [
        {
          "output_type": "stream",
          "name": "stdout",
          "text": [
            "\u001b[1mSequence Files for subject ercffa_022:\u001b[0m\n",
            "\t- ercffa_022_12-07-2022_09-41.npy\n",
            "\n",
            "\n",
            "\u001b[1mAssociation Test Files for subject ercffa_022:\u001b[0m\n",
            "\t- ercffa_022_12-07-2022_11-37.json\n",
            "\t- ercffa_022_12-07-2022_12-40.json\n",
            "\t- ercffa_022_13-07-2022_09-46.json\n"
          ]
        }
      ]
    },
    {
      "cell_type": "code",
      "source": [
        "Association_File_3 = 'ercffa_022_13-07-2022_09-46.json' #Change Here\n",
        "\n",
        "#===============================================================================\n",
        "\n",
        "Association_File_3 = updateSubjectFile_Registery(Subject_code, 'association_3', Association_File_3)\n",
        "                        \n",
        "AssTest_df = pd.read_json('{}/{}'.format(AssTestFolder, Association_File_3))\n",
        "\n",
        "Sequence_3 = Sequence_Data['Association Test 3']['fractal'].tolist()\n",
        "Answers_3 = AssTest_df['Fractal ID'].tolist()\n",
        "\n",
        "reportAndConfusionMatrix(Sequence_3, Answers_3, flavorFractal_code)\n",
        "plt.tight_layout()\n",
        "plt.savefig('{}/confusionMatrix_{}_association_3.png'.format(subjectFigures_folder, Subject_code))"
      ],
      "metadata": {
        "id": "zSYkzrKMn9kN",
        "colab": {
          "base_uri": "https://localhost:8080/",
          "height": 498
        },
        "outputId": "bbeb19c6-494b-4a1f-a51b-c90d750a9996"
      },
      "execution_count": null,
      "outputs": [
        {
          "output_type": "stream",
          "name": "stdout",
          "text": [
            "\n",
            "\t\t\t\u001b[1mAccuracy:\u001b[0m 0.6666666666666666\n"
          ]
        },
        {
          "output_type": "display_data",
          "data": {
            "text/plain": [
              "<Figure size 495x495 with 1 Axes>"
            ],
            "image/png": "[encoded data removed]"
          },
          "metadata": {
            "needs_background": "light"
          }
        }
      ]
    },
    {
      "cell_type": "code",
      "source": [
        ""
      ],
      "metadata": {
        "id": "gw1Zyo_j-dGN"
      },
      "execution_count": null,
      "outputs": []
    }
  ]
}